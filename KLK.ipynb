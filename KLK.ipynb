{
 "cells": [
  {
   "cell_type": "code",
   "execution_count": 103,
   "metadata": {},
   "outputs": [],
   "source": [
    "import pandas as pd\n",
    "import numpy as np\n",
    "import matplotlib.pyplot as plt"
   ]
  },
  {
   "cell_type": "code",
   "execution_count": 104,
   "metadata": {},
   "outputs": [],
   "source": [
    "original = pd.read_csv('3_Data_Train.csv',sep= \";\")\n",
    "df = original.copy()"
   ]
  },
  {
   "cell_type": "code",
   "execution_count": 105,
   "metadata": {},
   "outputs": [
    {
     "data": {
      "text/html": [
       "<div>\n",
       "<style scoped>\n",
       "    .dataframe tbody tr th:only-of-type {\n",
       "        vertical-align: middle;\n",
       "    }\n",
       "\n",
       "    .dataframe tbody tr th {\n",
       "        vertical-align: top;\n",
       "    }\n",
       "\n",
       "    .dataframe thead th {\n",
       "        text-align: right;\n",
       "    }\n",
       "</style>\n",
       "<table border=\"1\" class=\"dataframe\">\n",
       "  <thead>\n",
       "    <tr style=\"text-align: right;\">\n",
       "      <th></th>\n",
       "      <th>ID</th>\n",
       "      <th>edad</th>\n",
       "      <th>trabajo</th>\n",
       "      <th>estado_civil</th>\n",
       "      <th>educacion</th>\n",
       "      <th>deuda</th>\n",
       "      <th>saldo</th>\n",
       "      <th>vivienda</th>\n",
       "      <th>prestamo</th>\n",
       "      <th>tipo_contacto</th>\n",
       "      <th>duracion</th>\n",
       "      <th>fecha_contacto</th>\n",
       "      <th>campaign</th>\n",
       "      <th>tiempo_transcurrido</th>\n",
       "      <th>contactos_anteriores</th>\n",
       "      <th>resultado_campanas_anteriores</th>\n",
       "      <th>target</th>\n",
       "    </tr>\n",
       "  </thead>\n",
       "  <tbody>\n",
       "    <tr>\n",
       "      <th>34897</th>\n",
       "      <td>34898</td>\n",
       "      <td>57</td>\n",
       "      <td>technician</td>\n",
       "      <td>casado</td>\n",
       "      <td>secundaria/superiores</td>\n",
       "      <td>no</td>\n",
       "      <td>589</td>\n",
       "      <td>si</td>\n",
       "      <td>no</td>\n",
       "      <td>movil</td>\n",
       "      <td>198</td>\n",
       "      <td>28-jan-2021</td>\n",
       "      <td>1</td>\n",
       "      <td>244</td>\n",
       "      <td>1</td>\n",
       "      <td>otro</td>\n",
       "      <td>no</td>\n",
       "    </tr>\n",
       "    <tr>\n",
       "      <th>11900</th>\n",
       "      <td>11901</td>\n",
       "      <td>52</td>\n",
       "      <td>blue-collar</td>\n",
       "      <td>casado</td>\n",
       "      <td>priamaria</td>\n",
       "      <td>no</td>\n",
       "      <td>990</td>\n",
       "      <td>no</td>\n",
       "      <td>no</td>\n",
       "      <td>movil</td>\n",
       "      <td>96</td>\n",
       "      <td>21-aug-2021</td>\n",
       "      <td>2</td>\n",
       "      <td>-1</td>\n",
       "      <td>0</td>\n",
       "      <td>NaN</td>\n",
       "      <td>no</td>\n",
       "    </tr>\n",
       "    <tr>\n",
       "      <th>8577</th>\n",
       "      <td>8578</td>\n",
       "      <td>28</td>\n",
       "      <td>admin.</td>\n",
       "      <td>soltero</td>\n",
       "      <td>secundaria/superiores</td>\n",
       "      <td>no</td>\n",
       "      <td>26</td>\n",
       "      <td>si</td>\n",
       "      <td>no</td>\n",
       "      <td>movil</td>\n",
       "      <td>227</td>\n",
       "      <td>7-may-2021</td>\n",
       "      <td>2</td>\n",
       "      <td>-1</td>\n",
       "      <td>0</td>\n",
       "      <td>NaN</td>\n",
       "      <td>no</td>\n",
       "    </tr>\n",
       "    <tr>\n",
       "      <th>25768</th>\n",
       "      <td>25769</td>\n",
       "      <td>50</td>\n",
       "      <td>services</td>\n",
       "      <td>casado</td>\n",
       "      <td>secundaria/superiores</td>\n",
       "      <td>no</td>\n",
       "      <td>1134</td>\n",
       "      <td>no</td>\n",
       "      <td>no</td>\n",
       "      <td>NaN</td>\n",
       "      <td>53</td>\n",
       "      <td>18-jun-2021</td>\n",
       "      <td>2</td>\n",
       "      <td>-1</td>\n",
       "      <td>0</td>\n",
       "      <td>NaN</td>\n",
       "      <td>no</td>\n",
       "    </tr>\n",
       "    <tr>\n",
       "      <th>27325</th>\n",
       "      <td>27326</td>\n",
       "      <td>30</td>\n",
       "      <td>admin.</td>\n",
       "      <td>casado</td>\n",
       "      <td>secundaria/superiores</td>\n",
       "      <td>no</td>\n",
       "      <td>0</td>\n",
       "      <td>no</td>\n",
       "      <td>no</td>\n",
       "      <td>movil</td>\n",
       "      <td>318</td>\n",
       "      <td>1-jun-2021</td>\n",
       "      <td>1</td>\n",
       "      <td>-1</td>\n",
       "      <td>0</td>\n",
       "      <td>NaN</td>\n",
       "      <td>si</td>\n",
       "    </tr>\n",
       "  </tbody>\n",
       "</table>\n",
       "</div>"
      ],
      "text/plain": [
       "          ID  edad      trabajo estado_civil              educacion deuda  \\\n",
       "34897  34898    57   technician       casado  secundaria/superiores    no   \n",
       "11900  11901    52  blue-collar       casado              priamaria    no   \n",
       "8577    8578    28       admin.      soltero  secundaria/superiores    no   \n",
       "25768  25769    50     services       casado  secundaria/superiores    no   \n",
       "27325  27326    30       admin.       casado  secundaria/superiores    no   \n",
       "\n",
       "       saldo vivienda prestamo tipo_contacto  duracion fecha_contacto  \\\n",
       "34897    589       si       no         movil       198    28-jan-2021   \n",
       "11900    990       no       no         movil        96    21-aug-2021   \n",
       "8577      26       si       no         movil       227     7-may-2021   \n",
       "25768   1134       no       no           NaN        53    18-jun-2021   \n",
       "27325      0       no       no         movil       318     1-jun-2021   \n",
       "\n",
       "       campaign  tiempo_transcurrido  contactos_anteriores  \\\n",
       "34897         1                  244                     1   \n",
       "11900         2                   -1                     0   \n",
       "8577          2                   -1                     0   \n",
       "25768         2                   -1                     0   \n",
       "27325         1                   -1                     0   \n",
       "\n",
       "      resultado_campanas_anteriores target  \n",
       "34897                          otro     no  \n",
       "11900                           NaN     no  \n",
       "8577                            NaN     no  \n",
       "25768                           NaN     no  \n",
       "27325                           NaN     si  "
      ]
     },
     "execution_count": 105,
     "metadata": {},
     "output_type": "execute_result"
    }
   ],
   "source": [
    "df.sample(5)"
   ]
  },
  {
   "cell_type": "code",
   "execution_count": 106,
   "metadata": {},
   "outputs": [
    {
     "data": {
      "text/html": [
       "<div>\n",
       "<style scoped>\n",
       "    .dataframe tbody tr th:only-of-type {\n",
       "        vertical-align: middle;\n",
       "    }\n",
       "\n",
       "    .dataframe tbody tr th {\n",
       "        vertical-align: top;\n",
       "    }\n",
       "\n",
       "    .dataframe thead th {\n",
       "        text-align: right;\n",
       "    }\n",
       "</style>\n",
       "<table border=\"1\" class=\"dataframe\">\n",
       "  <thead>\n",
       "    <tr style=\"text-align: right;\">\n",
       "      <th></th>\n",
       "      <th>ID</th>\n",
       "      <th>edad</th>\n",
       "      <th>trabajo</th>\n",
       "      <th>estado_civil</th>\n",
       "      <th>educacion</th>\n",
       "      <th>deuda</th>\n",
       "      <th>saldo</th>\n",
       "      <th>vivienda</th>\n",
       "      <th>prestamo</th>\n",
       "      <th>tipo_contacto</th>\n",
       "      <th>duracion</th>\n",
       "      <th>fecha_contacto</th>\n",
       "      <th>campaign</th>\n",
       "      <th>tiempo_transcurrido</th>\n",
       "      <th>contactos_anteriores</th>\n",
       "      <th>resultado_campanas_anteriores</th>\n",
       "      <th>target</th>\n",
       "    </tr>\n",
       "  </thead>\n",
       "  <tbody>\n",
       "    <tr>\n",
       "      <th>0</th>\n",
       "      <td>1</td>\n",
       "      <td>40</td>\n",
       "      <td>blue-collar</td>\n",
       "      <td>casado</td>\n",
       "      <td>secundaria/superiores</td>\n",
       "      <td>no</td>\n",
       "      <td>580</td>\n",
       "      <td>si</td>\n",
       "      <td>no</td>\n",
       "      <td>NaN</td>\n",
       "      <td>192</td>\n",
       "      <td>16-may-2021</td>\n",
       "      <td>1</td>\n",
       "      <td>-1</td>\n",
       "      <td>0</td>\n",
       "      <td>NaN</td>\n",
       "      <td>no</td>\n",
       "    </tr>\n",
       "    <tr>\n",
       "      <th>1</th>\n",
       "      <td>2</td>\n",
       "      <td>47</td>\n",
       "      <td>services</td>\n",
       "      <td>soltero</td>\n",
       "      <td>secundaria/superiores</td>\n",
       "      <td>no</td>\n",
       "      <td>3644</td>\n",
       "      <td>no</td>\n",
       "      <td>no</td>\n",
       "      <td>NaN</td>\n",
       "      <td>83</td>\n",
       "      <td>9-jun-2021</td>\n",
       "      <td>2</td>\n",
       "      <td>-1</td>\n",
       "      <td>0</td>\n",
       "      <td>NaN</td>\n",
       "      <td>no</td>\n",
       "    </tr>\n",
       "    <tr>\n",
       "      <th>2</th>\n",
       "      <td>3</td>\n",
       "      <td>25</td>\n",
       "      <td>student</td>\n",
       "      <td>soltero</td>\n",
       "      <td>universitarios</td>\n",
       "      <td>no</td>\n",
       "      <td>538</td>\n",
       "      <td>si</td>\n",
       "      <td>no</td>\n",
       "      <td>movil</td>\n",
       "      <td>226</td>\n",
       "      <td>20-apr-2021</td>\n",
       "      <td>1</td>\n",
       "      <td>-1</td>\n",
       "      <td>0</td>\n",
       "      <td>NaN</td>\n",
       "      <td>no</td>\n",
       "    </tr>\n",
       "    <tr>\n",
       "      <th>3</th>\n",
       "      <td>4</td>\n",
       "      <td>42</td>\n",
       "      <td>management</td>\n",
       "      <td>casado</td>\n",
       "      <td>universitarios</td>\n",
       "      <td>no</td>\n",
       "      <td>1773</td>\n",
       "      <td>no</td>\n",
       "      <td>no</td>\n",
       "      <td>movil</td>\n",
       "      <td>311</td>\n",
       "      <td>9-apr-2021</td>\n",
       "      <td>1</td>\n",
       "      <td>336</td>\n",
       "      <td>1</td>\n",
       "      <td>sin_exito</td>\n",
       "      <td>no</td>\n",
       "    </tr>\n",
       "    <tr>\n",
       "      <th>4</th>\n",
       "      <td>5</td>\n",
       "      <td>56</td>\n",
       "      <td>management</td>\n",
       "      <td>casado</td>\n",
       "      <td>universitarios</td>\n",
       "      <td>no</td>\n",
       "      <td>217</td>\n",
       "      <td>no</td>\n",
       "      <td>si</td>\n",
       "      <td>movil</td>\n",
       "      <td>121</td>\n",
       "      <td>21-jul-2021</td>\n",
       "      <td>2</td>\n",
       "      <td>-1</td>\n",
       "      <td>0</td>\n",
       "      <td>NaN</td>\n",
       "      <td>no</td>\n",
       "    </tr>\n",
       "  </tbody>\n",
       "</table>\n",
       "</div>"
      ],
      "text/plain": [
       "   ID  edad      trabajo estado_civil              educacion deuda  saldo  \\\n",
       "0   1    40  blue-collar       casado  secundaria/superiores    no    580   \n",
       "1   2    47     services      soltero  secundaria/superiores    no   3644   \n",
       "2   3    25      student      soltero         universitarios    no    538   \n",
       "3   4    42   management       casado         universitarios    no   1773   \n",
       "4   5    56   management       casado         universitarios    no    217   \n",
       "\n",
       "  vivienda prestamo tipo_contacto  duracion fecha_contacto  campaign  \\\n",
       "0       si       no           NaN       192    16-may-2021         1   \n",
       "1       no       no           NaN        83     9-jun-2021         2   \n",
       "2       si       no         movil       226    20-apr-2021         1   \n",
       "3       no       no         movil       311     9-apr-2021         1   \n",
       "4       no       si         movil       121    21-jul-2021         2   \n",
       "\n",
       "   tiempo_transcurrido  contactos_anteriores resultado_campanas_anteriores  \\\n",
       "0                   -1                     0                           NaN   \n",
       "1                   -1                     0                           NaN   \n",
       "2                   -1                     0                           NaN   \n",
       "3                  336                     1                     sin_exito   \n",
       "4                   -1                     0                           NaN   \n",
       "\n",
       "  target  \n",
       "0     no  \n",
       "1     no  \n",
       "2     no  \n",
       "3     no  \n",
       "4     no  "
      ]
     },
     "execution_count": 106,
     "metadata": {},
     "output_type": "execute_result"
    }
   ],
   "source": [
    "df.head() # las cabezera de la base de datos"
   ]
  },
  {
   "cell_type": "code",
   "execution_count": 107,
   "metadata": {},
   "outputs": [
    {
     "data": {
      "text/html": [
       "<div>\n",
       "<style scoped>\n",
       "    .dataframe tbody tr th:only-of-type {\n",
       "        vertical-align: middle;\n",
       "    }\n",
       "\n",
       "    .dataframe tbody tr th {\n",
       "        vertical-align: top;\n",
       "    }\n",
       "\n",
       "    .dataframe thead th {\n",
       "        text-align: right;\n",
       "    }\n",
       "</style>\n",
       "<table border=\"1\" class=\"dataframe\">\n",
       "  <thead>\n",
       "    <tr style=\"text-align: right;\">\n",
       "      <th></th>\n",
       "      <th>ID</th>\n",
       "      <th>edad</th>\n",
       "      <th>trabajo</th>\n",
       "      <th>estado_civil</th>\n",
       "      <th>educacion</th>\n",
       "      <th>deuda</th>\n",
       "      <th>saldo</th>\n",
       "      <th>vivienda</th>\n",
       "      <th>prestamo</th>\n",
       "      <th>tipo_contacto</th>\n",
       "      <th>duracion</th>\n",
       "      <th>fecha_contacto</th>\n",
       "      <th>campaign</th>\n",
       "      <th>tiempo_transcurrido</th>\n",
       "      <th>contactos_anteriores</th>\n",
       "      <th>resultado_campanas_anteriores</th>\n",
       "      <th>target</th>\n",
       "    </tr>\n",
       "  </thead>\n",
       "  <tbody>\n",
       "    <tr>\n",
       "      <th>44251</th>\n",
       "      <td>44252</td>\n",
       "      <td>38</td>\n",
       "      <td>management</td>\n",
       "      <td>casado</td>\n",
       "      <td>secundaria/superiores</td>\n",
       "      <td>no</td>\n",
       "      <td>-323</td>\n",
       "      <td>si</td>\n",
       "      <td>no</td>\n",
       "      <td>NaN</td>\n",
       "      <td>250</td>\n",
       "      <td>9-jun-2021</td>\n",
       "      <td>1</td>\n",
       "      <td>-1</td>\n",
       "      <td>0</td>\n",
       "      <td>NaN</td>\n",
       "      <td>no</td>\n",
       "    </tr>\n",
       "    <tr>\n",
       "      <th>44252</th>\n",
       "      <td>44253</td>\n",
       "      <td>49</td>\n",
       "      <td>technician</td>\n",
       "      <td>casado</td>\n",
       "      <td>secundaria/superiores</td>\n",
       "      <td>no</td>\n",
       "      <td>1982</td>\n",
       "      <td>si</td>\n",
       "      <td>si</td>\n",
       "      <td>movil</td>\n",
       "      <td>73</td>\n",
       "      <td>22-aug-2021</td>\n",
       "      <td>15</td>\n",
       "      <td>-1</td>\n",
       "      <td>0</td>\n",
       "      <td>NaN</td>\n",
       "      <td>no</td>\n",
       "    </tr>\n",
       "    <tr>\n",
       "      <th>44253</th>\n",
       "      <td>44254</td>\n",
       "      <td>51</td>\n",
       "      <td>blue-collar</td>\n",
       "      <td>casado</td>\n",
       "      <td>secundaria/superiores</td>\n",
       "      <td>no</td>\n",
       "      <td>794</td>\n",
       "      <td>si</td>\n",
       "      <td>no</td>\n",
       "      <td>fijo</td>\n",
       "      <td>747</td>\n",
       "      <td>24-jul-2021</td>\n",
       "      <td>1</td>\n",
       "      <td>-1</td>\n",
       "      <td>0</td>\n",
       "      <td>NaN</td>\n",
       "      <td>no</td>\n",
       "    </tr>\n",
       "    <tr>\n",
       "      <th>44254</th>\n",
       "      <td>44255</td>\n",
       "      <td>29</td>\n",
       "      <td>blue-collar</td>\n",
       "      <td>soltero</td>\n",
       "      <td>universitarios</td>\n",
       "      <td>no</td>\n",
       "      <td>98</td>\n",
       "      <td>no</td>\n",
       "      <td>no</td>\n",
       "      <td>movil</td>\n",
       "      <td>170</td>\n",
       "      <td>10-aug-2021</td>\n",
       "      <td>2</td>\n",
       "      <td>-1</td>\n",
       "      <td>0</td>\n",
       "      <td>NaN</td>\n",
       "      <td>no</td>\n",
       "    </tr>\n",
       "    <tr>\n",
       "      <th>44255</th>\n",
       "      <td>44256</td>\n",
       "      <td>32</td>\n",
       "      <td>technician</td>\n",
       "      <td>soltero</td>\n",
       "      <td>secundaria/superiores</td>\n",
       "      <td>no</td>\n",
       "      <td>321</td>\n",
       "      <td>si</td>\n",
       "      <td>no</td>\n",
       "      <td>movil</td>\n",
       "      <td>156</td>\n",
       "      <td>11-aug-2021</td>\n",
       "      <td>2</td>\n",
       "      <td>-1</td>\n",
       "      <td>0</td>\n",
       "      <td>NaN</td>\n",
       "      <td>no</td>\n",
       "    </tr>\n",
       "  </tbody>\n",
       "</table>\n",
       "</div>"
      ],
      "text/plain": [
       "          ID  edad      trabajo estado_civil              educacion deuda  \\\n",
       "44251  44252    38   management       casado  secundaria/superiores    no   \n",
       "44252  44253    49   technician       casado  secundaria/superiores    no   \n",
       "44253  44254    51  blue-collar       casado  secundaria/superiores    no   \n",
       "44254  44255    29  blue-collar      soltero         universitarios    no   \n",
       "44255  44256    32   technician      soltero  secundaria/superiores    no   \n",
       "\n",
       "       saldo vivienda prestamo tipo_contacto  duracion fecha_contacto  \\\n",
       "44251   -323       si       no           NaN       250     9-jun-2021   \n",
       "44252   1982       si       si         movil        73    22-aug-2021   \n",
       "44253    794       si       no          fijo       747    24-jul-2021   \n",
       "44254     98       no       no         movil       170    10-aug-2021   \n",
       "44255    321       si       no         movil       156    11-aug-2021   \n",
       "\n",
       "       campaign  tiempo_transcurrido  contactos_anteriores  \\\n",
       "44251         1                   -1                     0   \n",
       "44252        15                   -1                     0   \n",
       "44253         1                   -1                     0   \n",
       "44254         2                   -1                     0   \n",
       "44255         2                   -1                     0   \n",
       "\n",
       "      resultado_campanas_anteriores target  \n",
       "44251                           NaN     no  \n",
       "44252                           NaN     no  \n",
       "44253                           NaN     no  \n",
       "44254                           NaN     no  \n",
       "44255                           NaN     no  "
      ]
     },
     "execution_count": 107,
     "metadata": {},
     "output_type": "execute_result"
    }
   ],
   "source": [
    "df.tail() # las ultima 5 filas de la base de datos "
   ]
  },
  {
   "cell_type": "code",
   "execution_count": 108,
   "metadata": {},
   "outputs": [
    {
     "name": "stdout",
     "output_type": "stream",
     "text": [
      "<class 'pandas.core.frame.DataFrame'>\n",
      "RangeIndex: 44256 entries, 0 to 44255\n",
      "Data columns (total 17 columns):\n",
      " #   Column                         Non-Null Count  Dtype \n",
      "---  ------                         --------------  ----- \n",
      " 0   ID                             44256 non-null  int64 \n",
      " 1   edad                           44256 non-null  int64 \n",
      " 2   trabajo                        44256 non-null  object\n",
      " 3   estado_civil                   44256 non-null  object\n",
      " 4   educacion                      42446 non-null  object\n",
      " 5   deuda                          44256 non-null  object\n",
      " 6   saldo                          44256 non-null  int64 \n",
      " 7   vivienda                       44256 non-null  object\n",
      " 8   prestamo                       44256 non-null  object\n",
      " 9   tipo_contacto                  31526 non-null  object\n",
      " 10  duracion                       44256 non-null  int64 \n",
      " 11  fecha_contacto                 44256 non-null  object\n",
      " 12  campaign                       44256 non-null  int64 \n",
      " 13  tiempo_transcurrido            44256 non-null  int64 \n",
      " 14  contactos_anteriores           44256 non-null  int64 \n",
      " 15  resultado_campanas_anteriores  8093 non-null   object\n",
      " 16  target                         44256 non-null  object\n",
      "dtypes: int64(7), object(10)\n",
      "memory usage: 5.7+ MB\n"
     ]
    }
   ],
   "source": [
    "df.info()"
   ]
  },
  {
   "cell_type": "code",
   "execution_count": 109,
   "metadata": {},
   "outputs": [
    {
     "data": {
      "text/plain": [
       "(44256, 17)"
      ]
     },
     "execution_count": 109,
     "metadata": {},
     "output_type": "execute_result"
    }
   ],
   "source": [
    "df.shape"
   ]
  },
  {
   "cell_type": "code",
   "execution_count": 110,
   "metadata": {},
   "outputs": [
    {
     "data": {
      "text/html": [
       "<div>\n",
       "<style scoped>\n",
       "    .dataframe tbody tr th:only-of-type {\n",
       "        vertical-align: middle;\n",
       "    }\n",
       "\n",
       "    .dataframe tbody tr th {\n",
       "        vertical-align: top;\n",
       "    }\n",
       "\n",
       "    .dataframe thead th {\n",
       "        text-align: right;\n",
       "    }\n",
       "</style>\n",
       "<table border=\"1\" class=\"dataframe\">\n",
       "  <thead>\n",
       "    <tr style=\"text-align: right;\">\n",
       "      <th></th>\n",
       "      <th>ID</th>\n",
       "      <th>edad</th>\n",
       "      <th>saldo</th>\n",
       "      <th>duracion</th>\n",
       "      <th>campaign</th>\n",
       "      <th>tiempo_transcurrido</th>\n",
       "      <th>contactos_anteriores</th>\n",
       "    </tr>\n",
       "  </thead>\n",
       "  <tbody>\n",
       "    <tr>\n",
       "      <th>count</th>\n",
       "      <td>44256.000000</td>\n",
       "      <td>44256.000000</td>\n",
       "      <td>44256.000000</td>\n",
       "      <td>44256.000000</td>\n",
       "      <td>44256.000000</td>\n",
       "      <td>44256.000000</td>\n",
       "      <td>44256.000000</td>\n",
       "    </tr>\n",
       "    <tr>\n",
       "      <th>mean</th>\n",
       "      <td>22128.500000</td>\n",
       "      <td>40.934856</td>\n",
       "      <td>1361.455509</td>\n",
       "      <td>258.320906</td>\n",
       "      <td>2.761004</td>\n",
       "      <td>40.259739</td>\n",
       "      <td>0.581593</td>\n",
       "    </tr>\n",
       "    <tr>\n",
       "      <th>std</th>\n",
       "      <td>12775.751093</td>\n",
       "      <td>10.626296</td>\n",
       "      <td>3053.362628</td>\n",
       "      <td>257.668451</td>\n",
       "      <td>3.093201</td>\n",
       "      <td>100.127699</td>\n",
       "      <td>2.314184</td>\n",
       "    </tr>\n",
       "    <tr>\n",
       "      <th>min</th>\n",
       "      <td>1.000000</td>\n",
       "      <td>18.000000</td>\n",
       "      <td>-8019.000000</td>\n",
       "      <td>0.000000</td>\n",
       "      <td>1.000000</td>\n",
       "      <td>-1.000000</td>\n",
       "      <td>0.000000</td>\n",
       "    </tr>\n",
       "    <tr>\n",
       "      <th>25%</th>\n",
       "      <td>11064.750000</td>\n",
       "      <td>33.000000</td>\n",
       "      <td>72.000000</td>\n",
       "      <td>103.000000</td>\n",
       "      <td>1.000000</td>\n",
       "      <td>-1.000000</td>\n",
       "      <td>0.000000</td>\n",
       "    </tr>\n",
       "    <tr>\n",
       "      <th>50%</th>\n",
       "      <td>22128.500000</td>\n",
       "      <td>39.000000</td>\n",
       "      <td>447.000000</td>\n",
       "      <td>180.000000</td>\n",
       "      <td>2.000000</td>\n",
       "      <td>-1.000000</td>\n",
       "      <td>0.000000</td>\n",
       "    </tr>\n",
       "    <tr>\n",
       "      <th>75%</th>\n",
       "      <td>33192.250000</td>\n",
       "      <td>48.000000</td>\n",
       "      <td>1424.250000</td>\n",
       "      <td>319.000000</td>\n",
       "      <td>3.000000</td>\n",
       "      <td>-1.000000</td>\n",
       "      <td>0.000000</td>\n",
       "    </tr>\n",
       "    <tr>\n",
       "      <th>max</th>\n",
       "      <td>44256.000000</td>\n",
       "      <td>95.000000</td>\n",
       "      <td>102127.000000</td>\n",
       "      <td>4918.000000</td>\n",
       "      <td>63.000000</td>\n",
       "      <td>871.000000</td>\n",
       "      <td>275.000000</td>\n",
       "    </tr>\n",
       "  </tbody>\n",
       "</table>\n",
       "</div>"
      ],
      "text/plain": [
       "                 ID          edad          saldo      duracion      campaign  \\\n",
       "count  44256.000000  44256.000000   44256.000000  44256.000000  44256.000000   \n",
       "mean   22128.500000     40.934856    1361.455509    258.320906      2.761004   \n",
       "std    12775.751093     10.626296    3053.362628    257.668451      3.093201   \n",
       "min        1.000000     18.000000   -8019.000000      0.000000      1.000000   \n",
       "25%    11064.750000     33.000000      72.000000    103.000000      1.000000   \n",
       "50%    22128.500000     39.000000     447.000000    180.000000      2.000000   \n",
       "75%    33192.250000     48.000000    1424.250000    319.000000      3.000000   \n",
       "max    44256.000000     95.000000  102127.000000   4918.000000     63.000000   \n",
       "\n",
       "       tiempo_transcurrido  contactos_anteriores  \n",
       "count         44256.000000          44256.000000  \n",
       "mean             40.259739              0.581593  \n",
       "std             100.127699              2.314184  \n",
       "min              -1.000000              0.000000  \n",
       "25%              -1.000000              0.000000  \n",
       "50%              -1.000000              0.000000  \n",
       "75%              -1.000000              0.000000  \n",
       "max             871.000000            275.000000  "
      ]
     },
     "execution_count": 110,
     "metadata": {},
     "output_type": "execute_result"
    }
   ],
   "source": [
    "df.describe()"
   ]
  },
  {
   "cell_type": "code",
   "execution_count": 111,
   "metadata": {},
   "outputs": [
    {
     "data": {
      "text/plain": [
       "0"
      ]
     },
     "execution_count": 111,
     "metadata": {},
     "output_type": "execute_result"
    }
   ],
   "source": [
    "df.duplicated().sum()"
   ]
  },
  {
   "cell_type": "code",
   "execution_count": 112,
   "metadata": {},
   "outputs": [
    {
     "data": {
      "text/plain": [
       "ID                                   0\n",
       "edad                                 0\n",
       "trabajo                              0\n",
       "estado_civil                         0\n",
       "educacion                         1810\n",
       "deuda                                0\n",
       "saldo                                0\n",
       "vivienda                             0\n",
       "prestamo                             0\n",
       "tipo_contacto                    12730\n",
       "duracion                             0\n",
       "fecha_contacto                       0\n",
       "campaign                             0\n",
       "tiempo_transcurrido                  0\n",
       "contactos_anteriores                 0\n",
       "resultado_campanas_anteriores    36163\n",
       "target                               0\n",
       "dtype: int64"
      ]
     },
     "execution_count": 112,
     "metadata": {},
     "output_type": "execute_result"
    }
   ],
   "source": [
    "df.isnull().sum()"
   ]
  },
  {
   "cell_type": "code",
   "execution_count": 114,
   "metadata": {},
   "outputs": [
    {
     "data": {
      "text/plain": [
       "44256"
      ]
     },
     "execution_count": 114,
     "metadata": {},
     "output_type": "execute_result"
    }
   ],
   "source": [
    "df['ID'].value_counts().sum()"
   ]
  },
  {
   "cell_type": "code",
   "execution_count": 115,
   "metadata": {},
   "outputs": [
    {
     "data": {
      "text/plain": [
       "educacion            \n",
       "secundaria/superiores    22713\n",
       "universitarios           13025\n",
       "priamaria                 6708\n",
       "Name: count, dtype: int64"
      ]
     },
     "execution_count": 115,
     "metadata": {},
     "output_type": "execute_result"
    }
   ],
   "source": [
    "df[['educacion']].value_counts()"
   ]
  },
  {
   "cell_type": "code",
   "execution_count": 126,
   "metadata": {},
   "outputs": [
    {
     "data": {
      "image/png": "[encoded data removed]",
      "text/plain": [
       "<Figure size 1500x1000 with 1 Axes>"
      ]
     },
     "metadata": {},
     "output_type": "display_data"
    }
   ],
   "source": [
    "    klk = df['educacion'].value_counts()\n",
    "\n",
    "    percentage = klk / len(df) * 100\n",
    "\n",
    "    plt.figure(figsize=(15, 10))\n",
    "    klk.plot(kind='bar', color='purple')\n",
    "    plt.title('Distribución de Clientes por Nivel Educativo')\n",
    "    plt.xlabel('Nivel Educativo')\n",
    "    plt.ylabel('Número de Clientes')\n",
    "    plt.xticks(rotation=60, ha='right')\n",
    "\n",
    "    for i, valor in enumerate(klk):\n",
    "        plt.text(i, valor + 1, f'{valor}\\n({percentage.iloc[i]:.1f}%)', ha='center', va='bottom')\n",
    "\n",
    "    plt.show()"
   ]
  },
  {
   "cell_type": "code",
   "execution_count": 127,
   "metadata": {},
   "outputs": [
    {
     "data": {
      "text/plain": [
       "edad\n",
       "32      2036\n",
       "31      1956\n",
       "33      1934\n",
       "34      1882\n",
       "35      1849\n",
       "        ... \n",
       "90         2\n",
       "92         2\n",
       "95         2\n",
       "93         1\n",
       "94         1\n",
       "Name: count, Length: 77, dtype: int64"
      ]
     },
     "execution_count": 127,
     "metadata": {},
     "output_type": "execute_result"
    }
   ],
   "source": [
    "df[['edad']].value_counts()"
   ]
  },
  {
   "cell_type": "code",
   "execution_count": 129,
   "metadata": {},
   "outputs": [
    {
     "data": {
      "image/png": "[encoded data removed]",
      "text/plain": [
       "<Figure size 1500x1000 with 1 Axes>"
      ]
     },
     "metadata": {},
     "output_type": "display_data"
    }
   ],
   "source": [
    "def categorize_age(age):\n",
    "    if age < 40:\n",
    "        return 'Joven'\n",
    "    elif 40 <= age < 60:\n",
    "        return 'Mediana edad'\n",
    "    else:\n",
    "        return 'Sénior'   \n",
    "    \n",
    "\n",
    "df['age_category'] = df['edad'].apply(categorize_age)\n",
    "\n",
    "klk = df['age_category'].value_counts()\n",
    "percentage = klk / len(df) * 100\n",
    "\n",
    "\n",
    "plt.figure(figsize=(15, 10))\n",
    "klk.plot(kind='bar', color='purple')\n",
    "plt.title('Distribución de Clientes por Grupo de Edad')\n",
    "plt.xlabel('Grupo de Edad')\n",
    "plt.ylabel('Número de Clientes')\n",
    "plt.xticks(rotation=0, ha='center')\n",
    "\n",
    "\n",
    "for i, valor in enumerate(klk):\n",
    "    plt.text(i, valor + 1, f'{valor}\\n({percentage.iloc[i]:.1f}%)', ha='center', va='bottom')\n",
    "\n",
    "plt.show()"
   ]
  },
  {
   "cell_type": "code",
   "execution_count": 130,
   "metadata": {},
   "outputs": [
    {
     "data": {
      "text/plain": [
       "prestamo\n",
       "no          37150\n",
       "si           7106\n",
       "Name: count, dtype: int64"
      ]
     },
     "execution_count": 130,
     "metadata": {},
     "output_type": "execute_result"
    }
   ],
   "source": [
    "df[['prestamo']].value_counts()"
   ]
  },
  {
   "cell_type": "code",
   "execution_count": 134,
   "metadata": {},
   "outputs": [
    {
     "data": {
      "image/png": "[encoded data removed]",
      "text/plain": [
       "<Figure size 1500x1000 with 1 Axes>"
      ]
     },
     "metadata": {},
     "output_type": "display_data"
    }
   ],
   "source": [
    "klk_loan = df[['prestamo']].value_counts()\n",
    "percentage = klk_loan / len(df) * 100\n",
    "\n",
    "plt.figure(figsize=(15, 10))\n",
    "klk_loan.plot(kind='bar', color='green')\n",
    "plt.title('Distribución de Clientes por Prestamo')\n",
    "plt.xlabel('Prestamo')\n",
    "for i, valor in enumerate(klk_loan):\n",
    "    plt.text(i, valor + 1, f'{valor}\\n({percentage.iloc[i]:.1f}%)', ha='center', va='bottom')\n",
    "\n",
    "plt.show()"
   ]
  },
  {
   "cell_type": "code",
   "execution_count": 136,
   "metadata": {},
   "outputs": [
    {
     "data": {
      "text/plain": [
       "tipo_contacto\n",
       "movil            28685\n",
       "fijo              2841\n",
       "Name: count, dtype: int64"
      ]
     },
     "execution_count": 136,
     "metadata": {},
     "output_type": "execute_result"
    }
   ],
   "source": [
    "df[['tipo_contacto']].value_counts()"
   ]
  },
  {
   "cell_type": "code",
   "execution_count": 137,
   "metadata": {},
   "outputs": [
    {
     "data": {
      "image/png": "[encoded data removed]",
      "text/plain": [
       "<Figure size 1500x1000 with 1 Axes>"
      ]
     },
     "metadata": {},
     "output_type": "display_data"
    }
   ],
   "source": [
    "klk_con = df[['tipo_contacto']].value_counts()\n",
    "\n",
    "percentage = klk_con / len(df) * 100\n",
    "\n",
    "plt.figure(figsize=(15, 10))\n",
    "klk_con.plot(kind='bar', color='grey')\n",
    "plt.title('Distribución de Clientes por Prestamo')\n",
    "plt.xlabel('Prestamo')\n",
    "for i, valor in enumerate(klk_con):\n",
    "    plt.text(i, valor + 1, f'{valor}\\n({percentage.iloc[i]:.1f}%)', ha='center', va='bottom')\n",
    "\n",
    "plt.show()"
   ]
  },
  {
   "cell_type": "code",
   "execution_count": 118,
   "metadata": {},
   "outputs": [
    {
     "data": {
      "text/plain": [
       "trabajo      \n",
       "blue-collar      9519\n",
       "management       9263\n",
       "technician       7436\n",
       "admin.           5076\n",
       "services         4056\n",
       "retired          2217\n",
       "self-employed    1548\n",
       "entrepreneur     1450\n",
       "unemployed       1274\n",
       "housemaid        1215\n",
       "student           922\n",
       "unknown           280\n",
       "Name: count, dtype: int64"
      ]
     },
     "execution_count": 118,
     "metadata": {},
     "output_type": "execute_result"
    }
   ],
   "source": [
    "df[['trabajo']].value_counts()"
   ]
  },
  {
   "cell_type": "code",
   "execution_count": 119,
   "metadata": {},
   "outputs": [
    {
     "data": {
      "text/plain": [
       "estado_civil\n",
       "casado          26652\n",
       "soltero         12501\n",
       "divorciado       5103\n",
       "Name: count, dtype: int64"
      ]
     },
     "execution_count": 119,
     "metadata": {},
     "output_type": "execute_result"
    }
   ],
   "source": [
    "df[['estado_civil']].value_counts()"
   ]
  },
  {
   "cell_type": "code",
   "execution_count": 120,
   "metadata": {},
   "outputs": [
    {
     "data": {
      "text/plain": [
       "tipo_contacto\n",
       "movil            28685\n",
       "fijo              2841\n",
       "Name: count, dtype: int64"
      ]
     },
     "execution_count": 120,
     "metadata": {},
     "output_type": "execute_result"
    }
   ],
   "source": [
    "df[['tipo_contacto']].value_counts()"
   ]
  },
  {
   "cell_type": "code",
   "execution_count": 121,
   "metadata": {},
   "outputs": [
    {
     "data": {
      "text/plain": [
       "resultado_campanas_anteriores\n",
       "sin_exito                        4805\n",
       "otro                             1808\n",
       "exito                            1480\n",
       "Name: count, dtype: int64"
      ]
     },
     "execution_count": 121,
     "metadata": {},
     "output_type": "execute_result"
    }
   ],
   "source": [
    "df[['resultado_campanas_anteriores']].value_counts()"
   ]
  },
  {
   "cell_type": "code",
   "execution_count": 132,
   "metadata": {},
   "outputs": [
    {
     "name": "stdout",
     "output_type": "stream",
     "text": [
      "Value counts of 'campaign':\n",
      "campaign\n",
      "1     17178\n",
      "2     12237\n",
      "3      5421\n",
      "4      3449\n",
      "5      1717\n",
      "6      1260\n",
      "7       721\n",
      "8       530\n",
      "9       321\n",
      "10      260\n",
      "11      194\n",
      "12      150\n",
      "13      130\n",
      "14       90\n",
      "15       82\n",
      "16       79\n",
      "17       66\n",
      "18       49\n",
      "19       43\n",
      "20       42\n",
      "21       35\n",
      "22       23\n",
      "25       22\n",
      "23       21\n",
      "24       19\n",
      "29       16\n",
      "28       15\n",
      "31       11\n",
      "27       10\n",
      "26       10\n",
      "32        9\n",
      "30        8\n",
      "33        6\n",
      "34        5\n",
      "35        4\n",
      "36        4\n",
      "38        3\n",
      "43        3\n",
      "41        2\n",
      "50        2\n",
      "37        2\n",
      "58        1\n",
      "44        1\n",
      "63        1\n",
      "39        1\n",
      "46        1\n",
      "55        1\n",
      "51        1\n",
      "Name: count, dtype: int64\n"
     ]
    }
   ],
   "source": [
    "klk_cam = df['campaign'].value_counts()\n",
    "print(\"Value counts of 'campaign':\")\n",
    "print(klk_cam)"
   ]
  },
  {
   "cell_type": "code",
   "execution_count": 133,
   "metadata": {},
   "outputs": [
    {
     "name": "stdout",
     "output_type": "stream",
     "text": [
      "Counts of 'fecha_contacto':\n",
      "fecha_contacto\n",
      "15-may-2021    1093\n",
      "14-may-2021     988\n",
      "13-may-2021     977\n",
      "7-may-2021      866\n",
      "8-may-2021      825\n",
      "               ... \n",
      "20-mar-2021       1\n",
      "8-dec-2021        1\n",
      "13-dec-2021       1\n",
      "26-sep-2021       1\n",
      "23-aug-2021       1\n",
      "Name: count, Length: 317, dtype: int64\n",
      "All 'fecha_contacto' dates are from 2021: True\n"
     ]
    },
    {
     "name": "stderr",
     "output_type": "stream",
     "text": [
      "C:\\Users\\samue\\AppData\\Local\\Temp\\ipykernel_46592\\3108184252.py:6: UserWarning: Could not infer format, so each element will be parsed individually, falling back to `dateutil`. To ensure parsing is consistent and as-expected, please specify a format.\n",
      "  df['fecha_contacto'] = pd.to_datetime(df['fecha_contacto'])\n"
     ]
    }
   ],
   "source": [
    "klk_con = df['fecha_contacto'].value_counts()\n",
    "print(\"Counts of 'fecha_contacto':\")\n",
    "print(klk_con)\n",
    "\n",
    "# Convert 'fecha_contacto' to datetime format\n",
    "df['fecha_contacto'] = pd.to_datetime(df['fecha_contacto'])\n",
    "\n",
    "# Check if all dates are from 2021\n",
    "all_2021 = all(df['fecha_contacto'].dt.year == 2021)\n",
    "print(f\"All 'fecha_contacto' dates are from 2021: {all_2021}\")"
   ]
  },
  {
   "cell_type": "code",
   "execution_count": null,
   "metadata": {},
   "outputs": [],
   "source": []
  },
  {
   "cell_type": "code",
   "execution_count": null,
   "metadata": {},
   "outputs": [],
   "source": []
  },
  {
   "cell_type": "code",
   "execution_count": null,
   "metadata": {},
   "outputs": [],
   "source": []
  },
  {
   "cell_type": "code",
   "execution_count": null,
   "metadata": {},
   "outputs": [],
   "source": []
  },
  {
   "cell_type": "code",
   "execution_count": null,
   "metadata": {},
   "outputs": [],
   "source": []
  },
  {
   "cell_type": "code",
   "execution_count": null,
   "metadata": {},
   "outputs": [],
   "source": []
  },
  {
   "cell_type": "code",
   "execution_count": null,
   "metadata": {},
   "outputs": [],
   "source": []
  },
  {
   "cell_type": "markdown",
   "metadata": {},
   "source": []
  },
  {
   "cell_type": "code",
   "execution_count": null,
   "metadata": {},
   "outputs": [],
   "source": []
  },
  {
   "cell_type": "code",
   "execution_count": null,
   "metadata": {},
   "outputs": [],
   "source": []
  },
  {
   "cell_type": "code",
   "execution_count": null,
   "metadata": {},
   "outputs": [],
   "source": []
  },
  {
   "cell_type": "code",
   "execution_count": null,
   "metadata": {},
   "outputs": [],
   "source": []
  },
  {
   "cell_type": "code",
   "execution_count": null,
   "metadata": {},
   "outputs": [],
   "source": []
  },
  {
   "cell_type": "code",
   "execution_count": null,
   "metadata": {},
   "outputs": [],
   "source": []
  },
  {
   "cell_type": "code",
   "execution_count": null,
   "metadata": {},
   "outputs": [],
   "source": []
  },
  {
   "cell_type": "code",
   "execution_count": null,
   "metadata": {},
   "outputs": [],
   "source": []
  },
  {
   "cell_type": "code",
   "execution_count": null,
   "metadata": {},
   "outputs": [],
   "source": []
  },
  {
   "cell_type": "code",
   "execution_count": null,
   "metadata": {},
   "outputs": [],
   "source": []
  },
  {
   "cell_type": "code",
   "execution_count": null,
   "metadata": {},
   "outputs": [],
   "source": []
  },
  {
   "cell_type": "code",
   "execution_count": null,
   "metadata": {},
   "outputs": [],
   "source": []
  },
  {
   "cell_type": "code",
   "execution_count": null,
   "metadata": {},
   "outputs": [],
   "source": []
  },
  {
   "cell_type": "code",
   "execution_count": null,
   "metadata": {},
   "outputs": [],
   "source": []
  },
  {
   "cell_type": "code",
   "execution_count": null,
   "metadata": {},
   "outputs": [],
   "source": []
  },
  {
   "cell_type": "code",
   "execution_count": null,
   "metadata": {},
   "outputs": [],
   "source": []
  },
  {
   "cell_type": "code",
   "execution_count": null,
   "metadata": {},
   "outputs": [],
   "source": []
  },
  {
   "cell_type": "code",
   "execution_count": null,
   "metadata": {},
   "outputs": [],
   "source": []
  },
  {
   "cell_type": "code",
   "execution_count": null,
   "metadata": {},
   "outputs": [],
   "source": []
  },
  {
   "cell_type": "code",
   "execution_count": null,
   "metadata": {},
   "outputs": [],
   "source": []
  },
  {
   "cell_type": "code",
   "execution_count": null,
   "metadata": {},
   "outputs": [],
   "source": []
  },
  {
   "cell_type": "code",
   "execution_count": null,
   "metadata": {},
   "outputs": [],
   "source": []
  },
  {
   "cell_type": "code",
   "execution_count": null,
   "metadata": {},
   "outputs": [],
   "source": []
  },
  {
   "cell_type": "code",
   "execution_count": null,
   "metadata": {},
   "outputs": [],
   "source": []
  },
  {
   "cell_type": "code",
   "execution_count": null,
   "metadata": {},
   "outputs": [],
   "source": []
  },
  {
   "cell_type": "code",
   "execution_count": null,
   "metadata": {},
   "outputs": [],
   "source": []
  },
  {
   "cell_type": "code",
   "execution_count": null,
   "metadata": {},
   "outputs": [],
   "source": []
  }
 ],
 "metadata": {
  "kernelspec": {
   "display_name": "ML",
   "language": "python",
   "name": "python3"
  },
  "language_info": {
   "codemirror_mode": {
    "name": "ipython",
    "version": 3
   },
   "file_extension": ".py",
   "mimetype": "text/x-python",
   "name": "python",
   "nbconvert_exporter": "python",
   "pygments_lexer": "ipython3",
   "version": "3.10.13"
  }
 },
 "nbformat": 4,
 "nbformat_minor": 2
}
